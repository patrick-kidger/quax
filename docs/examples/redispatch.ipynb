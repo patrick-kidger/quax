{
 "cells": [
  {
   "cell_type": "markdown",
   "id": "cf3b9f53-7818-44e2-bd2e-73da24968650",
   "metadata": {},
   "source": [
    "# Advanced tutorial - rules that redispatch back to Quax\n",
    "\n",
    "In our previous two examples [here](./custom_rules.ipynb) and [here](./default_rules.ipynb), all of our registered rules had our custom type interacting either with itself, or with `ArrayLike`s.\n",
    "\n",
    "We can also arrange to have them interact with other Quax types, including ones that are authored by someone else, and which we don't know anything about! The key trick to this is to implement the part of the rule that we care about -- and then redispatch back to Quax to handle the other type(s)."
   ]
  },
  {
   "cell_type": "code",
   "execution_count": 1,
   "id": "d3e1be65-6abb-4cbf-b1fe-ff56c00d17c4",
   "metadata": {},
   "outputs": [],
   "source": [
    "import equinox as eqx  # https://github.com/patrick-kidger/equinox\n",
    "import jax\n",
    "import jax.numpy as jnp\n",
    "from jaxtyping import (  # https://github.com/patrick-kidger/quax\n",
    "    Array,\n",
    "    ArrayLike,\n",
    "    Int,\n",
    "    Shaped,\n",
    ")\n",
    "\n",
    "import quax"
   ]
  },
  {
   "cell_type": "markdown",
   "id": "9295494c-cfd8-4a1a-90be-8597e355b336",
   "metadata": {},
   "source": [
    "## Definitions"
   ]
  },
  {
   "cell_type": "code",
   "execution_count": 2,
   "id": "cb766b08-976d-49f4-af3b-e547131fb590",
   "metadata": {},
   "outputs": [],
   "source": [
    "# Here's a rank-1 LoRA. This is basically a simple version of\n",
    "# `quax.examples.lora.LoraArray`.\n",
    "\n",
    "\n",
    "class LoraArray(quax.ArrayValue):\n",
    "    w: Shaped[Array, \"dim1 dim2\"]\n",
    "    a: Shaped[Array, \" dim1\"]\n",
    "    b: Shaped[Array, \" dim2\"]\n",
    "\n",
    "    def aval(self):\n",
    "        shape = jnp.shape(self.w)\n",
    "        dtype = jnp.result_type(self.w)\n",
    "        return jax.core.ShapedArray(shape, dtype)\n",
    "\n",
    "    def materialise(self):\n",
    "        raise ValueError(\"Refusing to materialise `LoraArray`\")\n",
    "\n",
    "\n",
    "def _lora_matmul(\n",
    "    w: Shaped[Array, \"dim1 dim2\"],\n",
    "    a: Shaped[Array, \" dim1\"],\n",
    "    b: Shaped[Array, \" dim2\"],\n",
    "    y: Shaped[Array, \" dim2\"],\n",
    ") -> Shaped[Array, \" dim1\"]:\n",
    "    return w @ y + a * jnp.dot(b, y)\n",
    "\n",
    "\n",
    "@quax.register(jax.lax.dot_general_p)\n",
    "def _(x: LoraArray, y: ArrayLike | quax.ArrayValue, *, dimension_numbers, **params):\n",
    "    ((lhs_contract, rhs_contract), (lhs_batch, rhs_batch)) = dimension_numbers\n",
    "    if jnp.ndim(x) != 2 and jnp.ndim(y) != 1:\n",
    "        raise NotImplementedError(\n",
    "            \"Have not implemented dot_general except for matrix-vector products\"\n",
    "        )\n",
    "    if (\n",
    "        lhs_batch == ()\n",
    "        and rhs_batch == ()\n",
    "        and lhs_contract == (1,)\n",
    "        and rhs_contract == (0,)\n",
    "    ):\n",
    "        # redispatch based on the type of `y`!\n",
    "        return quax.quaxify(_lora_matmul)(x.w, x.a, x.b, y)\n",
    "    else:\n",
    "        raise NotImplementedError(\n",
    "            f\"Have not implemented dot_general for {dimension_numbers}.\"\n",
    "        )"
   ]
  },
  {
   "cell_type": "markdown",
   "id": "e3f27be0-8d82-4305-b6b5-b289b001a252",
   "metadata": {},
   "source": [
    "Notice how we haven't just allowed `y: ArrayLike`, but we have also allowed other Quax types as well! We've then redispatched based on the type of `y`.\n",
    "\n",
    "So first of all, let's check that the usual `ArrayLike` argument still works as before:"
   ]
  },
  {
   "cell_type": "code",
   "execution_count": 3,
   "id": "aaf8973a-72cb-4471-840b-dcf476d166eb",
   "metadata": {},
   "outputs": [
    {
     "data": {
      "text/plain": [
       "Array([12., 12., 12.], dtype=float32)"
      ]
     },
     "execution_count": 3,
     "metadata": {},
     "output_type": "execute_result"
    }
   ],
   "source": [
    "matmul = lambda a, b: a @ b\n",
    "w = jnp.ones((3, 4))\n",
    "a = jnp.ones(3)\n",
    "b = jnp.ones(4)\n",
    "lora_array = LoraArray(w, a, b)\n",
    "y = jnp.arange(4.0)\n",
    "quax.quaxify(matmul)(lora_array, y)"
   ]
  },
  {
   "cell_type": "markdown",
   "id": "43dd8f9f-ccda-44a4-a5ee-0c0a3592a236",
   "metadata": {},
   "source": [
    "## Redispatching\n",
    "\n",
    "And now, let's check that we really can redispatch against another custom type. We're going to do\n",
    "```python\n",
    "quax.quaxify(matmul, LoraArray(...), SomeKindOfSparseVector(...))\n",
    "```\n",
    "\n",
    "So let's go ahead and do that quickly! Pretend that `LoraArray` and `SomeKindOfSparseVector` are implemented by two different people in two different codebases.\n",
    "\n",
    "But because the `LoraArray` implementation redispatches, then things \"just work\" without any need for special-casing compatibility between the two types."
   ]
  },
  {
   "cell_type": "code",
   "execution_count": 4,
   "id": "70dfc845-d0f3-4fe8-b7de-2b76f4a1ce6f",
   "metadata": {},
   "outputs": [
    {
     "data": {
      "text/plain": [
       "Array([10., 10., 10.], dtype=float32)"
      ]
     },
     "execution_count": 4,
     "metadata": {},
     "output_type": "execute_result"
    }
   ],
   "source": [
    "class SomeKindOfSparseVector(quax.ArrayValue):\n",
    "    \"\"\"This represents a sparse vector with a single non-zero value.\"\"\"\n",
    "\n",
    "    index: Int[ArrayLike, \"\"]\n",
    "    value: Shaped[ArrayLike, \"\"]\n",
    "    length: int = eqx.field(static=True)\n",
    "\n",
    "    def aval(self):\n",
    "        shape = (self.length,)\n",
    "        dtype = jnp.result_type(self.value)\n",
    "        return jax.core.ShapedArray(shape, dtype)\n",
    "\n",
    "    def materialise(self):\n",
    "        raise ValueError(\"Refusing to materialise `SomeKindOfSparseVector`\")\n",
    "\n",
    "\n",
    "@quax.register(jax.lax.dot_general_p)\n",
    "def _(x: Array, y: SomeKindOfSparseVector, *, dimension_numbers, **params):\n",
    "    if jnp.ndim(x) == 1:\n",
    "        (length,) = x.shape\n",
    "        if length != y.length:\n",
    "            raise ValueError(\"Mismatched vector shapes\")\n",
    "        return x[y.index] * y.value\n",
    "    elif jnp.ndim(x) == 2:\n",
    "        rows, cols = x.shape\n",
    "        if cols != y.length:\n",
    "            raise ValueError(\"Mismatched matrix and vector shapes\")\n",
    "        return x[:, y.index] * y.value\n",
    "    else:\n",
    "        raise NotImplementedError(\n",
    "            \"Have not implemented dot_general except for matrix-vector products\"\n",
    "        )\n",
    "\n",
    "\n",
    "sparse_vector = SomeKindOfSparseVector(index=2, value=5, length=4)\n",
    "quax.quaxify(matmul)(lora_array, sparse_vector)"
   ]
  },
  {
   "cell_type": "markdown",
   "id": "94b82d79-e602-4f2a-a742-7d01e83b70be",
   "metadata": {},
   "source": [
    "The key-takeaway here is that if you want to handle arbitrary Quax types:\n",
    "- Make the type annotation be `Union[ArrayLike, quax.ArrayValue]`,\n",
    "- and redispatch with a nested `quax.quaxify` call!\n",
    "\n",
    "## Ambiguous lookup errors\n",
    "\n",
    "When playing in these advanced waters, there is one possible failure mode to be aware of. Suppose the registration rule for `SomeKindOfSparseVector` looked like this instead:\n",
    "```python\n",
    "@quax.register(jax.lax.dot_general_p)\n",
    "def _(x: Union[ArrayLike, quax.ArrayValue], y: SomeKindOfSparseVector, *, dimension_numbers, **params):\n",
    "```\n",
    "where the first argument can be a `quax.ArrayValue`. \n",
    "\n",
    "Then, how should the top-level `quax.quaxify(matmul)(lora_array, sparse_vector)` work? Should the matmul bind against the above rule (which is valid as `LoraArray` is a subclass of `quax.ArrayValue`, and `SomeKindOfSparseVector` matches exactly), or should it bind against the\n",
    "```python\n",
    "@quax.register(jax.lax.dot_general_p)\n",
    "def _(x: LoraArray, y: Union[ArrayLike, quax.ArrayValue], *, dimension_numbers, **params):\n",
    "```\n",
    "rule we defined earlier (which is valid as `LoraArray` matches exactly, and `SomeKindOfSparseVector` is a subclass of `quax.ArrayValue`)?\n",
    "\n",
    "In this case, due to the ambiguity, an `AmbiguousLookupError` will be raised! Let's experiment by doing that now, overwriting our previously-registered rule:"
   ]
  },
  {
   "cell_type": "code",
   "execution_count": 5,
   "id": "a66c479c-7845-4aa4-a334-1a24665825bd",
   "metadata": {},
   "outputs": [
    {
     "name": "stdout",
     "output_type": "stream",
     "text": [
      "AmbiguousLookupError('For function `dot_general_dispatcher`, `(LoraArray(w=f32[3,4], a=f32[3], b=f32[4]), SomeKindOfSparseVector(index=2, value=5, length=4))` is ambiguous among the following:\\n  Signature(__main__.LoraArray, typing.Union[jax.Array, numpy.ndarray, numpy.bool_, numpy.number, bool, int, float, complex, quax._core.ArrayValue], implementation=<function _ at 0x7faa24241f80>) (precedence: 0)\\n  Signature(typing.Union[jax.Array, numpy.ndarray, numpy.bool_, numpy.number, bool, int, float, complex, quax._core.ArrayValue], __main__.SomeKindOfSparseVector, implementation=<function _ at 0x7faa242e0360>) (precedence: 0)')\n"
     ]
    }
   ],
   "source": [
    "@quax.register(jax.lax.dot_general_p)\n",
    "def _(\n",
    "    x: ArrayLike | quax.ArrayValue,\n",
    "    y: SomeKindOfSparseVector,\n",
    "    *,\n",
    "    dimension_numbers,\n",
    "    **params,\n",
    "):\n",
    "    if jnp.ndim(x) == 1:\n",
    "        (length,) = x.shape\n",
    "        if length != y.length:\n",
    "            raise ValueError(\"Mismatched vector shapes\")\n",
    "        return x[y.index] * y.value\n",
    "    elif jnp.ndim(x) == 2:\n",
    "        rows, cols = x.shape\n",
    "        if cols != y.length:\n",
    "            raise ValueError(\"Mismatched matrix and vector shapes\")\n",
    "        return x[:, y.index] * y.value\n",
    "    else:\n",
    "        raise NotImplementedError(\n",
    "            \"Have not implemented dot_general except for matrix-vector products\"\n",
    "        )\n",
    "\n",
    "\n",
    "try:\n",
    "    quax.quaxify(matmul)(lora_array, sparse_vector)\n",
    "except Exception as e:\n",
    "    print(repr(e))"
   ]
  },
  {
   "cell_type": "markdown",
   "id": "d7185c8c-2379-474a-9c5c-e7cff7d3e048",
   "metadata": {},
   "source": [
    "We have two ways of fixing this.\n",
    "\n",
    "### Solution 1: nested quaxifies\n",
    "\n",
    "The first (the preferred way) is to do a nested `quax.quaxify`.\n",
    "\n",
    "Under the hood, `quax.quaxify(fn, filter_spec)(*args, **kwargs)` will run `dynamic, static = eqx.partition((fn, args, kwargs), filter_spec)`, and then it will only quaxify those argments in `dynamic`, whilst those in `static` will be left untouched.\n",
    "\n",
    "So in this case, we started off with a `matmul` that does `array @ vector`. The inner `quaxify` turns that into a function that's defined to do `lora_array @ vector`. The outer quaxify then turns that into a function that's defined to do `lora_array @ sparse_vector`. This means that we now have an unambiguous lookup order: by construction (from our inner `quaxify`) we've specified that we want to use the\n",
    "```python\n",
    "@quax.register(jax.lax.dot_general_p)\n",
    "def _(x: LoraArray, y: Union[ArrayLike, quax.ArrayValue], *, dimension_numbers, **params):\n",
    "```\n",
    "rule first."
   ]
  },
  {
   "cell_type": "code",
   "execution_count": 6,
   "id": "d95f59c5-0e77-40d3-afb8-e38ff66936f5",
   "metadata": {},
   "outputs": [
    {
     "data": {
      "text/plain": [
       "Array([10., 10., 10.], dtype=float32)"
      ]
     },
     "execution_count": 6,
     "metadata": {},
     "output_type": "execute_result"
    }
   ],
   "source": [
    "is_lora_array = lambda x: isinstance(x, LoraArray)\n",
    "is_sparse = lambda x: isinstance(x, SomeKindOfSparseVector)\n",
    "quax.quaxify(quax.quaxify(matmul, filter_spec=is_lora_array), filter_spec=is_sparse)(\n",
    "    lora_array, sparse_vector\n",
    ")"
   ]
  },
  {
   "cell_type": "markdown",
   "id": "4ed2857e-6079-4ae0-9e90-a9c335ea6f18",
   "metadata": {},
   "source": [
    "!!! Note\n",
    "\n",
    "    Incidentally, from the behaviour of `eqx.partition`, we could also have passed `(False, (True, False), False)` for the inner `filter_spec`, and `(False, (False, True), False)` for the outer `filter_spec`: this will explicitly pick out the LoRA and sparse objects by position, rather than by type.\n",
    "\n",
    "!!! Note\n",
    "\n",
    "    The order of these two quaxifies is important. If we'd done it the other way around, then we would have hit the `ArrayValue @ SomeKindOfSparseVector` combination first. However, that involves indexing (`x[:, y.index]`), and we (a) haven't provided an override for that operation for `LoraArray`, and (b) have disallowed materialising the `LoraArray`. So if we'd switched the quaxifies, we would have gotten a trace-time error.\n",
    "\n",
    "### Solution 2: override the combination\n",
    "\n",
    "Okay, on to the second (less preferred) way: we can explicitly define an override rule for the combination:"
   ]
  },
  {
   "cell_type": "code",
   "execution_count": 7,
   "id": "72400f7e-2a11-4c34-8ecb-33e2228efbef",
   "metadata": {},
   "outputs": [],
   "source": [
    "@quax.register(jax.lax.dot_general_p)\n",
    "def _(\n",
    "    x: LoraArray, y: SomeKindOfSparseVector, *, dimension_numbers, **params\n",
    "): ...  # some implementation here"
   ]
  },
  {
   "cell_type": "markdown",
   "id": "c10efdd5-1259-4126-9221-2e6a84af1866",
   "metadata": {},
   "source": [
    "However this is discouraged as (a) it involves mutating global state (the multiple dispatch lookup table), which could potentially have effects in other parts of your codebase or in your libraries, and (b) it means that you have to figure out the implementation for this combination."
   ]
  }
 ],
 "metadata": {
  "kernelspec": {
   "display_name": "py311",
   "language": "python",
   "name": "py311"
  },
  "language_info": {
   "codemirror_mode": {
    "name": "ipython",
    "version": 3
   },
   "file_extension": ".py",
   "mimetype": "text/x-python",
   "name": "python",
   "nbconvert_exporter": "python",
   "pygments_lexer": "ipython3",
   "version": "3.11.7"
  }
 },
 "nbformat": 4,
 "nbformat_minor": 5
}
