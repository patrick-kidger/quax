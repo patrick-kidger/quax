{
 "cells": [
  {
   "cell_type": "markdown",
   "id": "340f212c-855e-40f4-a0b1-43b3e0375340",
   "metadata": {},
   "source": [
    "# Intermediate tutorial - default rules\n",
    "\n",
    "In the [previous tutorial](./custom_rules.ipynb), we saw how to overload a particular primitive-type combination. What about when we only have the type, but want to overload *every* primitive? For this we have default rules.\n",
    "\n",
    "Here's an example for a type that detects whether we're in the forward or backward pass of backpropagation.  \n",
    "(For example, this is useful with quantisation, for which we often want to quantise in different ways in each pass.)\n",
    "\n",
    "In this example, we'll see how to create a custom array-ish Quax type. And in particular, we'll discuss a few important patterns when registering rules for a new type."
   ]
  },
  {
   "cell_type": "code",
   "execution_count": 1,
   "id": "e7461911-b2aa-4c2c-b796-b2c1cecb017d",
   "metadata": {},
   "outputs": [],
   "source": [
    "import functools as ft\n",
    "from collections.abc import Sequence\n",
    "\n",
    "import equinox as eqx  # https://github.com/patrick-kidger/equinox\n",
    "import jax\n",
    "import jax.numpy as jnp\n",
    "import jax.random as jr\n",
    "import jax.tree_util as jtu\n",
    "from jaxtyping import ArrayLike  # https://github.com/patrick-kidger/quax\n",
    "\n",
    "import quax"
   ]
  },
  {
   "cell_type": "markdown",
   "id": "d19f6f05-6355-4f33-9d64-424beaa9ff96",
   "metadata": {},
   "source": [
    "We begin by writing a \"tag\" type that just wraps an array. Whenever it is used in a JAX operation, it'll promote all the other types into tagged arrays as well. This means we can see everything that happens downstream of a particular operation.\n",
    "\n",
    "The interesting bit will be implementing a default rule for it."
   ]
  },
  {
   "cell_type": "code",
   "execution_count": 2,
   "id": "aba0c908-06df-48fd-a9a0-604e4909fe4b",
   "metadata": {},
   "outputs": [],
   "source": [
    "class BackwardTag(quax.ArrayValue):\n",
    "    array: ArrayLike\n",
    "\n",
    "    def aval(self):\n",
    "        shape = jnp.shape(self.array)\n",
    "        dtype = jnp.result_type(self.array)\n",
    "        return jax.core.ShapedArray(shape, dtype)\n",
    "\n",
    "    @staticmethod\n",
    "    def default(\n",
    "        primitive: jax.extend.core.Primitive,\n",
    "        values: Sequence[ArrayLike | quax.Value],\n",
    "        params: dict,\n",
    "    ):\n",
    "        raw_values: list[ArrayLike] = []\n",
    "        for value in values:\n",
    "            if eqx.is_array_like(value):\n",
    "                raw_values.append(value)\n",
    "            elif isinstance(value, BackwardTag):\n",
    "                raw_values.append(value.array)\n",
    "            elif isinstance(value, quax.Value):\n",
    "                raise ValueError(\n",
    "                    \"`BackwardTag` cannot be used in conjuction with other Quax types.\"\n",
    "                )\n",
    "            else:\n",
    "                assert False  # should never happen\n",
    "        out = primitive.bind(*raw_values, **params)\n",
    "        if primitive.multiple_results:\n",
    "            return [BackwardTag(x) for x in out]\n",
    "        else:\n",
    "            return BackwardTag(out)\n",
    "\n",
    "    def materialise(self):\n",
    "        # See the documentation for `quax.ArrayValue.{default,materialise}`.\n",
    "        # This shouldn't ever be called for us.\n",
    "        raise ValueError(\"Refusing to materialise and remove `BackwardTag`\")"
   ]
  },
  {
   "cell_type": "markdown",
   "id": "079d65dd-5ec5-44c8-bb54-b5592692d4f8",
   "metadata": {},
   "source": [
    "Okay, in some sense that's actually the end of the \"part 2 tutorial\" -- we've written our default rule!\n",
    "\n",
    "But let's finish it off by using it in an interesting way:: let's write something that looks like `jax.value_and_grad`, except that it'll pass in one of our tagged types at the start of the backward pass."
   ]
  },
  {
   "cell_type": "code",
   "execution_count": 3,
   "id": "696cf670-05d9-4336-b672-f2fdac897a9a",
   "metadata": {},
   "outputs": [],
   "source": [
    "def tagged_value_and_grad(fn):\n",
    "    @ft.wraps(fn)\n",
    "    def fn_wrapped(arg, *args, **kwargs):\n",
    "        fn_all_args_except_first = lambda x: fn(x, *args, **kwargs)\n",
    "        out, fn_vjp = jax.vjp(fn_all_args_except_first, arg)\n",
    "        if not eqx.is_array_like(out) or jnp.shape(out) != ():\n",
    "            raise ValueError(\n",
    "                \"Wrapped function must return a scalar, just like `jax.grad`.\"\n",
    "            )\n",
    "        # The interesting bit! We quaxify the backward pass.\n",
    "        (grad,) = quax.quaxify(fn_vjp)(BackwardTag(1.0))\n",
    "        unwrap_tag = lambda x: x.array if isinstance(x, BackwardTag) else x\n",
    "        grad = jtu.tree_map(\n",
    "            unwrap_tag, grad, is_leaf=lambda x: isinstance(x, BackwardTag)\n",
    "        )\n",
    "        return out, grad\n",
    "\n",
    "    return fn_wrapped"
   ]
  },
  {
   "cell_type": "markdown",
   "id": "8dd18242-7c3a-41ff-be35-281de0850472",
   "metadata": {},
   "source": [
    "Now, as implemented... this hasn't actually done anything. Our backward pass uses tagged types, but then we unwrapped them from the gradients at the end. Why bother?\n",
    "\n",
    "Time for the useful bit: by introducing a custom Quax rule, we can introduce custom behaviour *only* for operations that occur on the backward pass.\n",
    "\n",
    "For this simple example, we're just going to have a print statement for all matmuls we encounter on the backward pass."
   ]
  },
  {
   "cell_type": "code",
   "execution_count": 4,
   "id": "720d8b9c-a220-4ea7-8f05-7c594d999116",
   "metadata": {},
   "outputs": [],
   "source": [
    "@quax.register(jax.lax.dot_general_p)\n",
    "def _(lhs: BackwardTag, rhs: ArrayLike, **params):\n",
    "    print(\"Performing a matmul with the tagged value on the LHS!\")\n",
    "    array = jax.lax.dot_general_p.bind(lhs.array, rhs, **params)\n",
    "    return BackwardTag(array)\n",
    "\n",
    "\n",
    "@quax.register(jax.lax.dot_general_p)\n",
    "def _(lhs: ArrayLike, rhs: BackwardTag, **params):\n",
    "    print(\"Performing a matmul with the tagged value on the RHS!\")\n",
    "    array = jax.lax.dot_general_p.bind(lhs, rhs.array, **params)\n",
    "    return BackwardTag(array)\n",
    "\n",
    "\n",
    "@quax.register(jax.lax.dot_general_p)\n",
    "def _(lhs: BackwardTag, rhs: BackwardTag, **params):\n",
    "    print(\"Performing a matmul with the tagged value on both sides!\")\n",
    "    array = jax.lax.dot_general_p.bind(lhs.array, rhs.array, **params)\n",
    "    return BackwardTag(array)"
   ]
  },
  {
   "cell_type": "markdown",
   "id": "d7b50ce6-c337-41ff-874b-068ffaacf25d",
   "metadata": {},
   "source": [
    "And now here's a quick demonstration!"
   ]
  },
  {
   "cell_type": "code",
   "execution_count": 5,
   "id": "04b93cd3-857f-4b7b-bf48-4ec04b002042",
   "metadata": {},
   "outputs": [
    {
     "name": "stdout",
     "output_type": "stream",
     "text": [
      "Performing a matmul with the tagged value on the LHS!\n",
      "Performing a matmul with the tagged value on the LHS!\n",
      "Performing a matmul with the tagged value on the LHS!\n",
      "Performing a matmul with the tagged value on the LHS!\n",
      "(Array(0.08791415, dtype=float32), Array([ 0.0703299 , -0.04381455], dtype=float32))\n"
     ]
    }
   ],
   "source": [
    "mlp = eqx.nn.MLP(in_size=2, out_size=\"scalar\", width_size=32, depth=3, key=jr.key(0))\n",
    "print(tagged_value_and_grad(mlp)(jnp.array([3.0, 4.0])))"
   ]
  },
  {
   "cell_type": "markdown",
   "id": "014a8071-07c1-4da9-a139-30cb1e4435b1",
   "metadata": {},
   "source": [
    "The key take-aways from this example are:\n",
    "\n",
    "- How to use the `default` method.\n",
    "- How to use Quax simply as a tool that's hidden from an end user. (In this case to adjust the behaviour of a backward pass.)"
   ]
  }
 ],
 "metadata": {
  "kernelspec": {
   "display_name": "py311",
   "language": "python",
   "name": "py311"
  },
  "language_info": {
   "codemirror_mode": {
    "name": "ipython",
    "version": 3
   },
   "file_extension": ".py",
   "mimetype": "text/x-python",
   "name": "python",
   "nbconvert_exporter": "python",
   "pygments_lexer": "ipython3",
   "version": "3.11.7"
  }
 },
 "nbformat": 4,
 "nbformat_minor": 5
}
