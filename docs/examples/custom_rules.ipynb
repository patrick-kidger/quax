{
 "cells": [
  {
   "cell_type": "markdown",
   "id": "340f212c-855e-40f4-a0b1-43b3e0375340",
   "metadata": {},
   "source": [
    "# Introductory tutorial - custom rules - Unitful\n",
    "\n",
    "In this example, we'll see how to create a custom array-ish Quax type.\n",
    "\n",
    "We're going to implement a \"unitful\" type, which annotates each array with a unit like \"length in meters\" or \"time in seconds\". It will keep track of the units as they propagate through the computation, and disallow things like adding a length-array to a time-array. (Which isn't a thing you can do in physics!)"
   ]
  },
  {
   "cell_type": "code",
   "execution_count": 1,
   "id": "e7461911-b2aa-4c2c-b796-b2c1cecb017d",
   "metadata": {},
   "outputs": [],
   "source": [
    "import functools as ft\n",
    "from typing import Union\n",
    "\n",
    "import equinox as eqx  # https://github.com/patrick-kidger/equinox\n",
    "import jax\n",
    "import jax.numpy as jnp\n",
    "from jaxtyping import ArrayLike  # https://github.com/patrick-kidger/jaxtyping\n",
    "\n",
    "import quax"
   ]
  },
  {
   "cell_type": "markdown",
   "id": "ac43c08b-aacb-4b5c-9a48-2558ed4722e3",
   "metadata": {},
   "source": [
    "As a first step for this example (unrelated to Quax), let's define a toy unit system. (In this simple system we only have \"meters\" etc., but no notion of \"kilometers\"/\"miles\" etc.)"
   ]
  },
  {
   "cell_type": "code",
   "execution_count": 2,
   "id": "5ccf1ac2-a2e1-4ddc-aa23-b928dc921da9",
   "metadata": {},
   "outputs": [],
   "source": [
    "@ft.total_ordering\n",
    "class Dimension:\n",
    "    def __init__(self, name):\n",
    "        self.name = name\n",
    "\n",
    "    def __eq__(self, other):\n",
    "        if isinstance(other, Dimension):\n",
    "            return self.name == other.name\n",
    "        return False\n",
    "\n",
    "    def __lt__(self, other):\n",
    "        if isinstance(other, Dimension):\n",
    "            return self.name < other.name\n",
    "        return NotImplemented\n",
    "\n",
    "    def __hash__(self):\n",
    "        return hash(self.name)\n",
    "\n",
    "    def __repr__(self):\n",
    "        return self.name\n",
    "\n",
    "\n",
    "kilograms = Dimension(\"kg\")\n",
    "meters = Dimension(\"m\")\n",
    "seconds = Dimension(\"s\")\n",
    "\n",
    "\n",
    "def _dim_to_unit(x: Union[Dimension, dict[Dimension, int]]) -> dict[Dimension, int]:\n",
    "    if isinstance(x, Dimension):\n",
    "        return {x: 1}\n",
    "    else:\n",
    "        return x"
   ]
  },
  {
   "cell_type": "markdown",
   "id": "f3ac23d1-aa0f-4a3e-be13-9565c3ec5056",
   "metadata": {},
   "source": [
    "Now let's define our custom Quax type. It'll wrap together an array and a unit."
   ]
  },
  {
   "cell_type": "code",
   "execution_count": 3,
   "id": "e860843b-ca95-4ef4-8d85-cec929931798",
   "metadata": {},
   "outputs": [],
   "source": [
    "class Unitful(quax.ArrayValue):\n",
    "    array: ArrayLike\n",
    "    units: dict[Dimension, int] = eqx.field(static=True, converter=_dim_to_unit)\n",
    "\n",
    "    def aval(self):\n",
    "        shape = jnp.shape(self.array)\n",
    "        dtype = jnp.result_type(self.array)\n",
    "        return jax.core.ShapedArray(shape, dtype)\n",
    "\n",
    "    def materialise(self):\n",
    "        raise ValueError(\"Refusing to materialise Unitful array.\")"
   ]
  },
  {
   "cell_type": "markdown",
   "id": "376d1aa6-d5e0-4d96-b440-a26b84d54fa1",
   "metadata": {},
   "source": [
    "Example usage for this is `Unitful(array, meters)` to indicate that the array has units of meters, or `Unitful(array, {meters: 1, seconds: -1})` to indicate the array has units of meters-per-second.\n",
    "\n",
    "Now let's define a few rules for how unitful arrays interact with each other."
   ]
  },
  {
   "cell_type": "code",
   "execution_count": 4,
   "id": "273e1899-36d5-4f07-885e-8dc0b1d7ab51",
   "metadata": {},
   "outputs": [],
   "source": [
    "@quax.register(jax.lax.add_p)\n",
    "def _(x: Unitful, y: Unitful):  # function name doesn't matter\n",
    "    if x.units == y.units:\n",
    "        return Unitful(x.array + y.array, x.units)\n",
    "    else:\n",
    "        raise ValueError(f\"Cannot add two arrays with units {x.units} and {y.units}.\")\n",
    "\n",
    "\n",
    "@quax.register(jax.lax.mul_p)\n",
    "def _(x: Unitful, y: Unitful):\n",
    "    units = x.units.copy()\n",
    "    for k, v in y.units.items():\n",
    "        if k in units:\n",
    "            units[k] += v\n",
    "        else:\n",
    "            units[k] = v\n",
    "    return Unitful(x.array * y.array, units)\n",
    "\n",
    "\n",
    "@quax.register(jax.lax.mul_p)\n",
    "def _(x: ArrayLike, y: Unitful):\n",
    "    return Unitful(x * y.array, y.units)\n",
    "\n",
    "\n",
    "@quax.register(jax.lax.mul_p)\n",
    "def _(x: Unitful, y: ArrayLike):\n",
    "    return Unitful(x.array * y, x.units)\n",
    "\n",
    "\n",
    "@quax.register(jax.lax.integer_pow_p)\n",
    "def _(x: Unitful, *, y: int):\n",
    "    units = {k: v * y for k, v in x.units.items()}\n",
    "    return Unitful(x.array**y, units)"
   ]
  },
  {
   "cell_type": "markdown",
   "id": "7f657460-5a01-4eaf-bb92-250919501907",
   "metadata": {},
   "source": [
    "And now let's go ahead and use these in practice!\n",
    "\n",
    "As our example, we'll consider computing the energy of a ball moving in Earth's gravity."
   ]
  },
  {
   "cell_type": "code",
   "execution_count": 5,
   "id": "679d6232-f964-4444-ba21-d80bce0309c9",
   "metadata": {},
   "outputs": [
    {
     "name": "stdout",
     "output_type": "stream",
     "text": [
      "The amount of energy is 36.69000244140625 with units {kg: 1, m: 2, s: -2}.\n"
     ]
    }
   ],
   "source": [
    "def kinetic_energy(mass, velocity):\n",
    "    \"\"\"Kinetic energy of a ball with `mass` moving with `velocity`.\"\"\"\n",
    "    return 0.5 * mass * velocity**2\n",
    "\n",
    "\n",
    "def gravitational_potential_energy(mass, height, g):\n",
    "    \"\"\"Gravitional potential energy of a ball with `mass` at a distance `height` above\n",
    "    the Earth's surface.\n",
    "    \"\"\"\n",
    "    return g * mass * height\n",
    "\n",
    "\n",
    "def compute_energy(mass, velocity, height, g):\n",
    "    return kinetic_energy(mass, velocity) + gravitational_potential_energy(\n",
    "        mass, height, g\n",
    "    )\n",
    "\n",
    "\n",
    "m = Unitful(jnp.array(3.0), kilograms)\n",
    "v = Unitful(jnp.array(2.2), {meters: 1, seconds: -1})\n",
    "h = Unitful(jnp.array(1.0), meters)\n",
    "# acceleration due to Earth's gravity.\n",
    "g = Unitful(jnp.array(9.81), {meters: 1, seconds: -2})\n",
    "E = quax.quaxify(compute_energy)(m, v, h, g)\n",
    "print(f\"The amount of energy is {E.array.item()} with units {E.units}.\")"
   ]
  },
  {
   "cell_type": "markdown",
   "id": "5b47f792-41f4-4e3e-ac85-ecdf57d998ab",
   "metadata": {},
   "source": [
    "Wonderful! That went perfectly.\n",
    "\n",
    "The key take-aways from this example are:\n",
    "\n",
    "- The basic usage of defining a custom type with its `aval` and `materialise`\n",
    "- How to define a rule that binds your custom type against itself, e.g.\n",
    "    ```python\n",
    "    @quax.register(jax.lax.mul_p)\n",
    "    def _(x: Unitful, y: Unitful): ...\n",
    "    ```\n",
    "- How to define a rule that binds your custom type against a normal JAX arraylike type, e.g.\n",
    "    ```python\n",
    "    @quax.register(jax.lax.mul_p)\n",
    "    def _(x: ArrayLike, y: Unitful): ...\n",
    "    ```\n",
    "    (An `ArrayLike` is all the things JAX is normally willing to have interact with arrays: `bool`/`int`/`float`/`complex`/NumPy scalars/NumPy arrays/JAX arrays. You can think of the purpose of Quax as being a way to extend what it means for an object to be arraylike.)"
   ]
  },
  {
   "cell_type": "markdown",
   "id": "94549b0e-ce9a-40c9-9d73-a3335e20f577",
   "metadata": {},
   "source": [
    "## Mistakes we didn't make\n",
    "\n",
    "Now let's look at all the ways we could have gotten an error by doing things wrong."
   ]
  },
  {
   "cell_type": "code",
   "execution_count": 6,
   "id": "ff6d5142-8fc4-4a9d-a0c3-1b52a794e6b7",
   "metadata": {},
   "outputs": [
    {
     "name": "stdout",
     "output_type": "stream",
     "text": [
      "Example 1 raises error ValueError('Cannot add two arrays with units {kg: 1} and {m: 1, s: -1}.')\n",
      "Example 2 raises error ValueError('Refusing to materialise Unitful array.')\n",
      "Example 3 raises error TypeError(\"unsupported operand type(s) for *: 'Unitful' and 'int'\")\n",
      "\n",
      "Example 4 raises TypeError with message:\n",
      "Encountered Quax value of type <class '__main__.Unitful'>. These must be transformed by passing them across a `quax.quaxify` boundary before being used.\n",
      "For example, the following is incorrect, as `SomeValue()` is not explicitly passed across the API boundary:\n",
      "```\n",
      "def f(x):\n",
      "    return x + SomeValue()\n",
      "\n",
      "quax.quaxify(f)(AnotherValue())\n",
      "```\n",
      "This should instead be written as the following:\n",
      "explicitly passed across the API boundary:\n",
      "```\n",
      "def f(x, y):\n",
      "    return x + y\n",
      "\n",
      "quax.quaxify(f)(AnotherValue(), SomeValue())\n",
      "```\n",
      "To better understand this, remember that the purpose of Quax is take a JAX program (given as a function) that acts on arrays, and to instead run it with array-ish types. But in the first example above, the original program already has an array-ish type, even before the `quaxify` is introduced.\n"
     ]
    }
   ],
   "source": [
    "# Bad example 1: a unit mismatch\n",
    "\n",
    "\n",
    "def bad_physics(x, y):\n",
    "    return x + y\n",
    "\n",
    "\n",
    "try:\n",
    "    # This will throw an error because the addition rule only allows adding arrays with\n",
    "    # the same units as each other.\n",
    "    quax.quaxify(bad_physics)(m, v)\n",
    "except ValueError as e:\n",
    "    print(f\"Example 1 raises error {repr(e)}\")\n",
    "\n",
    "# Bad example 2: trying to add a normal JAX array onto a Unitful quantity:\n",
    "\n",
    "try:\n",
    "    # This will throw an error because there's no rule for adding a Unitful array to\n",
    "    # a normal JAX array -- that is, we haven't defined a rule like\n",
    "    # ```\n",
    "    # @quax.register(jax.lax.add_p)\n",
    "    # def _(x: Unitful, y: ArrayLike):\n",
    "    #     ...\n",
    "    # ```\n",
    "    # so Quax tries to materialise the Unitful array into a normal JAX array. However,\n",
    "    # we've explicitly made `materialise` raise an error.\n",
    "    quax.quaxify(bad_physics)(m, jnp.array(0))\n",
    "except ValueError as e:\n",
    "    print(f\"Example 2 raises error {repr(e)}\")\n",
    "\n",
    "\n",
    "# Bad example 3: trying to create a `Unitful` type *without* passing it across a\n",
    "# `quax.quaxify` boundary.\n",
    "\n",
    "\n",
    "def unquaxed_example(x):\n",
    "    return Unitful(1, meters) * x\n",
    "\n",
    "\n",
    "try:\n",
    "    # This will throw an error because there is (deliberately) not `__mul__` method on\n",
    "    # `Unitful`. The pattern is that we (a) create a Quax type, and then (b) pass it\n",
    "    # across a `quax.quaxify` boundary. Whilst we *could* define a `__mul__` method, it\n",
    "    # might dangerously start encouraging us to use Quax in a way it isn't designed\n",
    "    # for.\n",
    "    quax.quaxify(unquaxed_example)(10)\n",
    "except TypeError as e:\n",
    "    print(f\"Example 3 raises error {repr(e)}\")\n",
    "\n",
    "\n",
    "# Bad example 4: trying to create a `Unitful` type *without* passing it across a\n",
    "# `quax.quaxify` boundary (again!).\n",
    "\n",
    "\n",
    "def another_unquaxed_example(x):\n",
    "    return jax.lax.mul(Unitful(1, meters), x)\n",
    "\n",
    "\n",
    "try:\n",
    "    # This will throw an error because Quax will attempt to bind `Unitful` directly,\n",
    "    # without it having passed across a `quaxify` boundary and being wrapped into a\n",
    "    # Quax tracer.\n",
    "    # As this is a common mistake, we have a special long-winded error message.\n",
    "    quax.quaxify(another_unquaxed_example)(Unitful(10, meters))\n",
    "except TypeError as e:\n",
    "    print(f\"\\nExample 4 raises {type(e).__name__} with message:\\n{e}\")"
   ]
  },
  {
   "cell_type": "markdown",
   "id": "4e63b44f-8f93-41c3-9167-3214bfd00a50",
   "metadata": {},
   "source": [
    "The key take-away from this set of failures is how you must create a Quax type, and then immediately pass it across a `quax.quaxify` boundary. You can't create them once you're inside! (After all, what if you had two nested `quax.quaxify` calls -- how should we use a Quax type that's created inside? We could associate it with either transform.)"
   ]
  }
 ],
 "metadata": {
  "kernelspec": {
   "display_name": "py311",
   "language": "python",
   "name": "py311"
  },
  "language_info": {
   "codemirror_mode": {
    "name": "ipython",
    "version": 3
   },
   "file_extension": ".py",
   "mimetype": "text/x-python",
   "name": "python",
   "nbconvert_exporter": "python",
   "pygments_lexer": "ipython3",
   "version": "3.11.10"
  }
 },
 "nbformat": 4,
 "nbformat_minor": 5
}
